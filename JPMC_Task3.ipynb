{
 "cells": [
  {
   "cell_type": "code",
   "execution_count": 1,
   "id": "8090149b",
   "metadata": {},
   "outputs": [
    {
     "name": "stdout",
     "output_type": "stream",
     "text": [
      "[[ 8.18520373  0.54490854  0.01994244 -2.77630853 -0.02418391]] [-0.09162643]\n",
      "0.0037\n",
      "0.9925106069101026\n"
     ]
    }
   ],
   "source": [
    "from sklearn.linear_model import LogisticRegression\n",
    "from sklearn import metrics\n",
    "import numpy as np\n",
    "import pandas as pd\n",
    "\n",
    "# Read in loan data from a CSV file\n",
    "df = pd.read_csv('Task 3 and 4_Loan_Data.csv')\n",
    "\n",
    "# Define the variable features\n",
    "features = ['credit_lines_outstanding', 'debt_to_income', 'payment_to_income', 'years_employed', 'fico_score']\n",
    "\n",
    "# Calculate the payment_to_income ratio\n",
    "df['payment_to_income'] = df['loan_amt_outstanding'] / df['income']\n",
    "    \n",
    "# Calculate the debt_to_income ratio\n",
    "df['debt_to_income'] = df['total_debt_outstanding'] / df['income']\n",
    "\n",
    "clf = LogisticRegression(random_state=0, solver='liblinear', tol=1e-5, max_iter=10000).fit(df[features], df['default'])\n",
    "print(clf.coef_, clf.intercept_)\n",
    "\n",
    "# Use the following code to check yourself\n",
    "y_pred = clf.predict(df[features])\n",
    "\n",
    "fpr, tpr, thresholds = metrics.roc_curve(df['default'], y_pred)\n",
    "print((1.0*(abs(df['default']-y_pred)).sum()) / len(df))\n",
    "print(metrics.auc(fpr, tpr))\n"
   ]
  },
  {
   "cell_type": "code",
   "execution_count": 2,
   "id": "759e397e",
   "metadata": {},
   "outputs": [],
   "source": [
    "import pandas as pd\n",
    "\n",
    "# Example borrowers\n",
    "test_cases = [\n",
    "    {\n",
    "        \"credit_lines_outstanding\": 8,\n",
    "        \"debt_to_income\": 0.9,       # very high\n",
    "        \"payment_to_income\": 0.5,    # large loan relative to income\n",
    "        \"years_employed\": 1,         # short job history\n",
    "        \"fico_score\": 580            # poor credit\n",
    "    },\n",
    "    {\n",
    "        \"credit_lines_outstanding\": 5,\n",
    "        \"debt_to_income\": 0.4,       # medium debt\n",
    "        \"payment_to_income\": 0.2,\n",
    "        \"years_employed\": 6,\n",
    "        \"fico_score\": 680            # fair credit\n",
    "    },\n",
    "    {\n",
    "        \"credit_lines_outstanding\": 12,\n",
    "        \"debt_to_income\": 0.2,       # low debt\n",
    "        \"payment_to_income\": 0.1,\n",
    "        \"years_employed\": 10,        # stable\n",
    "        \"fico_score\": 760            # excellent credit\n",
    "    }\n",
    "]\n"
   ]
  },
  {
   "cell_type": "code",
   "execution_count": 3,
   "id": "b3f6eaf4",
   "metadata": {},
   "outputs": [
    {
     "name": "stdout",
     "output_type": "stream",
     "text": [
      "Borrower: {'credit_lines_outstanding': 8, 'debt_to_income': 0.9, 'payment_to_income': 0.5, 'years_employed': 1, 'fico_score': 580}, Predicted PD: 1.000\n",
      "Borrower: {'credit_lines_outstanding': 5, 'debt_to_income': 0.4, 'payment_to_income': 0.2, 'years_employed': 6, 'fico_score': 680}, Predicted PD: 1.000\n",
      "Borrower: {'credit_lines_outstanding': 12, 'debt_to_income': 0.2, 'payment_to_income': 0.1, 'years_employed': 10, 'fico_score': 760}, Predicted PD: 1.000\n"
     ]
    }
   ],
   "source": [
    "for borrower in test_cases:\n",
    "    X = pd.DataFrame([borrower])\n",
    "    pd_estimate = clf.predict_proba(X)[:,1][0]\n",
    "    print(f\"Borrower: {borrower}, Predicted PD: {pd_estimate:.3f}\")\n"
   ]
  },
  {
   "cell_type": "code",
   "execution_count": null,
   "id": "719c3236",
   "metadata": {},
   "outputs": [],
   "source": []
  }
 ],
 "metadata": {
  "kernelspec": {
   "display_name": "Python 3 (ipykernel)",
   "language": "python",
   "name": "python3"
  },
  "language_info": {
   "codemirror_mode": {
    "name": "ipython",
    "version": 3
   },
   "file_extension": ".py",
   "mimetype": "text/x-python",
   "name": "python",
   "nbconvert_exporter": "python",
   "pygments_lexer": "ipython3",
   "version": "3.9.13"
  }
 },
 "nbformat": 4,
 "nbformat_minor": 5
}
